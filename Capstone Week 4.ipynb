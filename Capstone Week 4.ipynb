{
    "cells": [
        {
            "cell_type": "markdown",
            "metadata": {
                "collapsed": true
            },
            "source": "## 1. A description of the problem and a discussion of the background.\n"
        },
        {
            "cell_type": "markdown",
            "metadata": {},
            "source": "Finding a good location for a new restaurant can be the difference between success and failure. In this project I will attempt to provide locations for a new coffee shop in Miami by using data about venue locations from Foursquare."
        },
        {
            "cell_type": "markdown",
            "metadata": {},
            "source": " \n## 2. A description of the data and how it will be used to solve the problem.\n \n "
        },
        {
            "cell_type": "markdown",
            "metadata": {},
            "source": "The data used for this project will be venue data from Foursquare. Because there is a limit of 100 venues per API call a grid will be used to create a series of API calls on overlapping \u2018neighborhoods\u2019 with a radius of 500 meters with centers spaced 500 meters apart. Coffee shops in this data will be identified and another data set will be created by pulling Foursquare data for \u2018neighborhoods\u2019 defined by a 500-meter radius surrounding each coffee shop. The Foursquare venue category will be used to create a new category to classify each location. This new feature will be used in the data analysis."
        },
        {
            "cell_type": "markdown",
            "metadata": {},
            "source": ""
        },
        {
            "cell_type": "code",
            "execution_count": null,
            "metadata": {},
            "outputs": [],
            "source": ""
        }
    ],
    "metadata": {
        "kernelspec": {
            "display_name": "Python 3.7",
            "language": "python",
            "name": "python3"
        },
        "language_info": {
            "codemirror_mode": {
                "name": "ipython",
                "version": 3
            },
            "file_extension": ".py",
            "mimetype": "text/x-python",
            "name": "python",
            "nbconvert_exporter": "python",
            "pygments_lexer": "ipython3",
            "version": "3.7.10"
        }
    },
    "nbformat": 4,
    "nbformat_minor": 1
}